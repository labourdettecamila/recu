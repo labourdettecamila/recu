{
 "cells": [
  {
   "cell_type": "markdown",
   "source": [
    "# Examen\n",
    "\n",
    "Era un taller sucio, donde el agua goteaba del techo y se acumulaba en el suelo, formando charcos irregulares. Las luces oxidadas y las paredes descascaradas, eran el escenario y los mecánicos, con sus manos engrasadas y sus brazos cubiertos de cicatrices, eran las estrellas de este espectáculo. Se movían con precisión, casi cómo un baile, entre las herramientas y las piezas de los vehículos que estaban reparando. La belleza, no era solo la de un ballet, estos hombres se consideraban a sí mismos científicos. Registraban cada detalle de sus trabajos en una base de datos detallada. La locura y la obsesión se combinaban. Entre el caos, gritos, cantos y alaridos de extasis, se podía ver un brillo de método científico.\n",
    "\n",
    "El taller se llamaba \"LOCOSconMotores 2000\" y el supervisor a cargo tenía cómo apodo Piston. Este tenía una visión particular sobre los autos: creía que cada uno tenía su propia personalidad y su propia historia. Él sostenía que, al igual que cada persona es única, cada auto es único y tiene su propio carácter. Piston siempre trataba a cada auto con respeto y cuidado, ya que cada uno tenía su propio valor. Como una figura importante en el mundo de la psicología y la filosofía, Piston afirmaba un fundamentalismo extremo por cultivar la individualidad y el respeto por uno mismo y por los demás, a la par que consideraba a los autos a la par que sus subordinados.\n",
    "\n",
    "\"El ojo de Kybalion\" era el nombre de la base de datos e incluía: el tipo de motor, la marca del auto, el tiempo de reparación en minutos, la cantidad de ruedas a reemplazar, la fecha de nacimiento o elaboración del auto, el signo del zoodíaco del auto y la cantidad de kilómetros recorridos.\n",
    "\n",
    "La base de datos continuaba registrando cada detalle, cómo testigo silencioso del paso del tiempo. Las hipótesis de los mecánicos sobre las razones de las roturas eran cada vez más vehementes. El nivel de desquicio y violencia fue tan grande que decidieron contratar alguien capaz de terminar con esas discusiones antes de que fuese demasiado tarde.\n",
    "\n",
    "Te contrataron a vos: Tu tarea cómo científico de datos con conocimiento es en python y machine learning es separar la locura de la razón, debatir con cada mecánico sus creencias para luego proponer una fórmula que describa las razones de las roturas y además pueda mejorar la eficiencia del taller mecánico.\n",
    "\n",
    "\n",
    "**\"El ojo de Kybalion\"**\n",
    "https://drive.google.com/file/d/1v6GNyAO4FDwTXct_4jqEFSnGYeqV2hKZ/view?usp=share_link\n",
    "\n",
    "\n",
    "**A) Chequee cada una de estas hipótesis con gráficos y Análisis de las distribuciones de las variables. (32pts)**\n",
    "\n",
    "1. Pepe cree que cómo el auto más reparado en el taller fueron los Toyota, todos ya saben cómo repararlos y por eso son más eficientes a la hora de repararlos. (4pts/32pts)\n",
    "2. \"El Tuerca\" tallerista antiguo, sostiene que los autos nuevos tiene muchas \"mañas\" y por lo tanto tardan muchisimo en repararse. -crea la variable \"edad_del_auto\" para verificar esta hipótesis. Tené en cuenta el año en que estas haciendo el examen.(4pts/32pts)\n",
    "3. \"Pistón\", sostiene que depende del signo del zoodíaco, los autos de \"sagitario\", dice, son más divertidos, extrovertidos, tienen buena fortuna y son fáciles conversadores, por lo tanto tardan menos en repararse.(4pts/32pts)\n",
    "4. \"El Oso\", fanático de Elon Musk, sostiene que los autos eléctricos son los más eficientes y por lo tanto tardan menos en repararse.(4pts/32pts)\n",
    "5. \"Bujía\", sostiene que los autos diesel son los más eficientes y por lo tanto tardan menos en repararse.(4pts/32pts)\n",
    "6. \"Inflador\", sostiene que los autos con más de 50.000 km recorridos tardan más en repararse.(4pts/32pts)\n",
    "7. \"Gomón\" está seguro que los autos que sólo le cambiaron 4 ruedas y son \"electricos\" tardan menos en repararse(4pts/32pts)\n",
    "8. \"Lovorne\" Cree que los Ford con más Kms tardan menos en repararse.(4pts/32pts)\n",
    "\n",
    "**B) Crear una hipotesis personal e intente verificarla con los datos.(8pts)**\n",
    "\n",
    "Del estilo \"Los autos Toyota de sagitario tardan menos en repararse\"\n",
    "\n",
    "**C) Cree un modelo de machine learning para predecir la variable que usted considera más importante, en función de las variables que usted considere. (30pts)**\n",
    "* Modelo (10 pts / 30pts)\n",
    "* Verificar con el modelo lo siguiente:\n",
    "    - \"Valvula\" Sostiene que la cantidad de ruedas a reemplazar no influye en nada.  (10pts / 30pts)\n",
    "    - \"Pistón\" está tan peleado con \"Inflador\" y dice que necesita una prueba científica para que le demuestren que la variable cantidad_de_kilometros es representativa.(10pts / 30pts)\n",
    "\n",
    "\n",
    "**D) Evalue el modelo con la formula de MAPE: mean_absolute_percentage_error. ¿Que significa el error? Interprete la formula. (5pts)**\n",
    "\n",
    "**E) Interprete los coeficientes?. Cual es la intuición del modelo? Explique la formula que representa al modelo con tus palabras? Se verifica que la marca del auto impacta o que el tipo de motor y la edad impacta? Cuanto? (5pts)**\n",
    "\n",
    "**F) Tengo fotos de accidentes de autos de una empresa de seguros. En las cuales actualmente cada perito de seguro evalua foto a foto el valor de los daños que tiene el auto. Por ultimo luego de una evaluación minuciosa de muchas variables más que las fotos, el perito dictamina el probable costo a pagar por el total de las reparaciones.   (20pts)**\n",
    "1. Explicar por qué resolverías esta tarea con Machine Learning.  (5pts / 20pts)\n",
    "2. ¿Cuales crearías que son las variables que afectarían al modelo y por qué? (5pts / 20pts)\n",
    "3. ¿Como la predicción impactaría al beneficio en el negocio de los seguros? (5pts / 20pts)\n",
    "4. ¿Como se evaluaría la eficacia del modelo? (5pts / 20pts)"
   ],
   "metadata": {
    "collapsed": false
   }
  },
  {
   "cell_type": "markdown",
   "source": [
    "## Preprocesamiento"
   ],
   "metadata": {
    "collapsed": false,
    "pycharm": {
     "name": "#%% md\n"
    }
   }
  },
  {
   "cell_type": "code",
   "execution_count": 1,
   "outputs": [
    {
     "data": {
      "text/plain": "      tiempo_de_reparacion tipo_de_motor marca_del_auto  \\\n0                  2406.00      gasolina         toyota   \n1                  2776.50     electrico          honda   \n2                  1122.00        diesel          honda   \n3                   639.00      gasolina          honda   \n4                  1494.00     electrico          honda   \n...                    ...           ...            ...   \n2995                496.00      gasolina         toyota   \n2996                866.70     electrico           ford   \n2997                618.84        diesel           ford   \n2998               2322.00     electrico         toyota   \n2999               2212.00      gasolina          honda   \n\n      cantidad_de_ruedas_a_reemplazar signo_del_auto  cantidad_de_kilometros  \\\n0                                   4         Piscis                   81760   \n1                                   3          Virgo                   91959   \n2                                   3        Acuario                   82800   \n3                                   4          Virgo                   19724   \n4                                   1        Acuario                   36123   \n...                               ...            ...                     ...   \n2995                                4       Escorpio                    6928   \n2996                                2          Virgo                   85837   \n2997                                2        Géminis                   74030   \n2998                                2       Escorpio                   47451   \n2999                                3    Capricornio                   27511   \n\n      fecha_de_elaboracion_del_auto  \n0                            2002.0  \n1                            1989.0  \n2                            1998.0  \n3                            2013.0  \n4                            2006.0  \n...                             ...  \n2995                         2016.0  \n2996                         2008.0  \n2997                         1988.0  \n2998                         1996.0  \n2999                         1984.0  \n\n[3000 rows x 7 columns]",
      "text/html": "<div>\n<style scoped>\n    .dataframe tbody tr th:only-of-type {\n        vertical-align: middle;\n    }\n\n    .dataframe tbody tr th {\n        vertical-align: top;\n    }\n\n    .dataframe thead th {\n        text-align: right;\n    }\n</style>\n<table border=\"1\" class=\"dataframe\">\n  <thead>\n    <tr style=\"text-align: right;\">\n      <th></th>\n      <th>tiempo_de_reparacion</th>\n      <th>tipo_de_motor</th>\n      <th>marca_del_auto</th>\n      <th>cantidad_de_ruedas_a_reemplazar</th>\n      <th>signo_del_auto</th>\n      <th>cantidad_de_kilometros</th>\n      <th>fecha_de_elaboracion_del_auto</th>\n    </tr>\n  </thead>\n  <tbody>\n    <tr>\n      <th>0</th>\n      <td>2406.00</td>\n      <td>gasolina</td>\n      <td>toyota</td>\n      <td>4</td>\n      <td>Piscis</td>\n      <td>81760</td>\n      <td>2002.0</td>\n    </tr>\n    <tr>\n      <th>1</th>\n      <td>2776.50</td>\n      <td>electrico</td>\n      <td>honda</td>\n      <td>3</td>\n      <td>Virgo</td>\n      <td>91959</td>\n      <td>1989.0</td>\n    </tr>\n    <tr>\n      <th>2</th>\n      <td>1122.00</td>\n      <td>diesel</td>\n      <td>honda</td>\n      <td>3</td>\n      <td>Acuario</td>\n      <td>82800</td>\n      <td>1998.0</td>\n    </tr>\n    <tr>\n      <th>3</th>\n      <td>639.00</td>\n      <td>gasolina</td>\n      <td>honda</td>\n      <td>4</td>\n      <td>Virgo</td>\n      <td>19724</td>\n      <td>2013.0</td>\n    </tr>\n    <tr>\n      <th>4</th>\n      <td>1494.00</td>\n      <td>electrico</td>\n      <td>honda</td>\n      <td>1</td>\n      <td>Acuario</td>\n      <td>36123</td>\n      <td>2006.0</td>\n    </tr>\n    <tr>\n      <th>...</th>\n      <td>...</td>\n      <td>...</td>\n      <td>...</td>\n      <td>...</td>\n      <td>...</td>\n      <td>...</td>\n      <td>...</td>\n    </tr>\n    <tr>\n      <th>2995</th>\n      <td>496.00</td>\n      <td>gasolina</td>\n      <td>toyota</td>\n      <td>4</td>\n      <td>Escorpio</td>\n      <td>6928</td>\n      <td>2016.0</td>\n    </tr>\n    <tr>\n      <th>2996</th>\n      <td>866.70</td>\n      <td>electrico</td>\n      <td>ford</td>\n      <td>2</td>\n      <td>Virgo</td>\n      <td>85837</td>\n      <td>2008.0</td>\n    </tr>\n    <tr>\n      <th>2997</th>\n      <td>618.84</td>\n      <td>diesel</td>\n      <td>ford</td>\n      <td>2</td>\n      <td>Géminis</td>\n      <td>74030</td>\n      <td>1988.0</td>\n    </tr>\n    <tr>\n      <th>2998</th>\n      <td>2322.00</td>\n      <td>electrico</td>\n      <td>toyota</td>\n      <td>2</td>\n      <td>Escorpio</td>\n      <td>47451</td>\n      <td>1996.0</td>\n    </tr>\n    <tr>\n      <th>2999</th>\n      <td>2212.00</td>\n      <td>gasolina</td>\n      <td>honda</td>\n      <td>3</td>\n      <td>Capricornio</td>\n      <td>27511</td>\n      <td>1984.0</td>\n    </tr>\n  </tbody>\n</table>\n<p>3000 rows × 7 columns</p>\n</div>"
     },
     "execution_count": 1,
     "metadata": {},
     "output_type": "execute_result"
    }
   ],
   "source": [
    "import pandas as pd\n",
    "import numpy as np\n",
    "import seaborn as sns\n",
    "import matplotlib.pyplot as plt\n",
    "\n",
    "\n",
    "df = pd.read_csv(\"taller_mecanico.csv\")\n",
    "df"
   ],
   "metadata": {
    "collapsed": false
   }
  },
  {
   "cell_type": "code",
   "execution_count": 3,
   "outputs": [
    {
     "data": {
      "text/plain": "fecha_de_elaboracion_del_auto      0.004\ntiempo_de_reparacion               0.000\ntipo_de_motor                      0.000\nmarca_del_auto                     0.000\ncantidad_de_ruedas_a_reemplazar    0.000\nsigno_del_auto                     0.000\ncantidad_de_kilometros             0.000\ndtype: float64"
     },
     "execution_count": 3,
     "metadata": {},
     "output_type": "execute_result"
    }
   ],
   "source": [
    "round(df.isnull().sum().sort_values(ascending=False)/len(df),3)"
   ],
   "metadata": {
    "collapsed": false,
    "pycharm": {
     "name": "#%%\n"
    }
   }
  },
  {
   "cell_type": "code",
   "execution_count": 4,
   "outputs": [
    {
     "data": {
      "text/plain": "   tiempo_de_reparacion tipo_de_motor marca_del_auto  \\\n0                2406.0      gasolina         toyota   \n1                2776.5     electrico          honda   \n2                1122.0        diesel          honda   \n3                 639.0      gasolina          honda   \n4                1494.0     electrico          honda   \n\n   cantidad_de_ruedas_a_reemplazar signo_del_auto  cantidad_de_kilometros  \\\n0                                4         Piscis                   81760   \n1                                3          Virgo                   91959   \n2                                3        Acuario                   82800   \n3                                4          Virgo                   19724   \n4                                1        Acuario                   36123   \n\n   fecha_de_elaboracion_del_auto  \n0                         2002.0  \n1                         1989.0  \n2                         1998.0  \n3                         2013.0  \n4                         2006.0  ",
      "text/html": "<div>\n<style scoped>\n    .dataframe tbody tr th:only-of-type {\n        vertical-align: middle;\n    }\n\n    .dataframe tbody tr th {\n        vertical-align: top;\n    }\n\n    .dataframe thead th {\n        text-align: right;\n    }\n</style>\n<table border=\"1\" class=\"dataframe\">\n  <thead>\n    <tr style=\"text-align: right;\">\n      <th></th>\n      <th>tiempo_de_reparacion</th>\n      <th>tipo_de_motor</th>\n      <th>marca_del_auto</th>\n      <th>cantidad_de_ruedas_a_reemplazar</th>\n      <th>signo_del_auto</th>\n      <th>cantidad_de_kilometros</th>\n      <th>fecha_de_elaboracion_del_auto</th>\n    </tr>\n  </thead>\n  <tbody>\n    <tr>\n      <th>0</th>\n      <td>2406.0</td>\n      <td>gasolina</td>\n      <td>toyota</td>\n      <td>4</td>\n      <td>Piscis</td>\n      <td>81760</td>\n      <td>2002.0</td>\n    </tr>\n    <tr>\n      <th>1</th>\n      <td>2776.5</td>\n      <td>electrico</td>\n      <td>honda</td>\n      <td>3</td>\n      <td>Virgo</td>\n      <td>91959</td>\n      <td>1989.0</td>\n    </tr>\n    <tr>\n      <th>2</th>\n      <td>1122.0</td>\n      <td>diesel</td>\n      <td>honda</td>\n      <td>3</td>\n      <td>Acuario</td>\n      <td>82800</td>\n      <td>1998.0</td>\n    </tr>\n    <tr>\n      <th>3</th>\n      <td>639.0</td>\n      <td>gasolina</td>\n      <td>honda</td>\n      <td>4</td>\n      <td>Virgo</td>\n      <td>19724</td>\n      <td>2013.0</td>\n    </tr>\n    <tr>\n      <th>4</th>\n      <td>1494.0</td>\n      <td>electrico</td>\n      <td>honda</td>\n      <td>1</td>\n      <td>Acuario</td>\n      <td>36123</td>\n      <td>2006.0</td>\n    </tr>\n  </tbody>\n</table>\n</div>"
     },
     "execution_count": 4,
     "metadata": {},
     "output_type": "execute_result"
    }
   ],
   "source": [
    "from sklearn.impute import SimpleImputer\n",
    "\n",
    "elaboracion_imp = SimpleImputer(strategy=\"median\" , missing_values=pd.NA)\n",
    "elaboracion_imp.fit(df[['fecha_de_elaboracion_del_auto']])\n",
    "df['fecha_de_elaboracion_del_auto'] = elaboracion_imp.transform(df[['fecha_de_elaboracion_del_auto']])\n",
    "\n",
    "df.head()"
   ],
   "metadata": {
    "collapsed": false,
    "pycharm": {
     "name": "#%%\n"
    }
   }
  },
  {
   "cell_type": "code",
   "execution_count": 5,
   "outputs": [
    {
     "data": {
      "text/plain": "tiempo_de_reparacion               0.0\ntipo_de_motor                      0.0\nmarca_del_auto                     0.0\ncantidad_de_ruedas_a_reemplazar    0.0\nsigno_del_auto                     0.0\ncantidad_de_kilometros             0.0\nfecha_de_elaboracion_del_auto      0.0\ndtype: float64"
     },
     "execution_count": 5,
     "metadata": {},
     "output_type": "execute_result"
    }
   ],
   "source": [
    "round(df.isnull().sum().sort_values(ascending=False)/len(df),3)"
   ],
   "metadata": {
    "collapsed": false,
    "pycharm": {
     "name": "#%%\n"
    }
   }
  },
  {
   "cell_type": "code",
   "execution_count": 6,
   "outputs": [
    {
     "data": {
      "text/plain": "Index(['tiempo_de_reparacion', 'cantidad_de_ruedas_a_reemplazar',\n       'cantidad_de_kilometros', 'fecha_de_elaboracion_del_auto'],\n      dtype='object')"
     },
     "execution_count": 6,
     "metadata": {},
     "output_type": "execute_result"
    }
   ],
   "source": [
    "numericas = df.select_dtypes(exclude=['object']).columns\n",
    "numericas"
   ],
   "metadata": {
    "collapsed": false,
    "pycharm": {
     "name": "#%%\n"
    }
   }
  },
  {
   "cell_type": "code",
   "execution_count": 7,
   "outputs": [
    {
     "data": {
      "text/plain": "<AxesSubplot:title={'center':'Boxplot de tiempo_de_reparacion'}, xlabel='tiempo_de_reparacion'>"
     },
     "execution_count": 7,
     "metadata": {},
     "output_type": "execute_result"
    },
    {
     "data": {
      "text/plain": "<Figure size 1000x500 with 2 Axes>",
      "image/png": "[encoded data removed]"
     },
     "metadata": {},
     "output_type": "display_data"
    }
   ],
   "source": [
    "variable = \"tiempo_de_reparacion\"\n",
    "fig, ax = plt.subplots(1,2,figsize=(10,5))\n",
    "\n",
    "ax[0].set_title(f\"Distribucion de {variable}\")\n",
    "sns.histplot(data = df, x = f\"{variable}\", kde=True, ax = ax[0])\n",
    "\n",
    "ax[1].set_title(f\"Boxplot de {variable}\")\n",
    "sns.boxplot(data = df, x = f\"{variable}\", ax=ax[1])\n"
   ],
   "metadata": {
    "collapsed": false,
    "pycharm": {
     "name": "#%%\n"
    }
   }
  },
  {
   "cell_type": "code",
   "execution_count": null,
   "outputs": [],
   "source": [
    "# No considero que haya que eliminar los outliers. Siguen un curso lógico."
   ],
   "metadata": {
    "collapsed": false,
    "pycharm": {
     "name": "#%%\n"
    }
   }
  },
  {
   "cell_type": "code",
   "execution_count": null,
   "outputs": [],
   "source": [
    "variable = \"cantidad_de_kilometros\"\n",
    "fig, ax = plt.subplots(1,2,figsize=(10,5))\n",
    "\n",
    "ax[0].set_title(f\"Distribucion de {variable}\")\n",
    "sns.histplot(data = df, x = f\"{variable}\", kde=True, ax = ax[0])\n",
    "\n",
    "ax[1].set_title(f\"Boxplot de {variable}\")\n",
    "sns.boxplot(data = df, x = f\"{variable}\", ax=ax[1])"
   ],
   "metadata": {
    "collapsed": false,
    "pycharm": {
     "name": "#%%\n",
     "is_executing": true
    }
   }
  },
  {
   "cell_type": "code",
   "execution_count": null,
   "outputs": [],
   "source": [
    "variable = \"fecha_de_elaboracion_del_auto\"\n",
    "fig, ax = plt.subplots(1,2,figsize=(10,5))\n",
    "\n",
    "ax[0].set_title(f\"Distribucion de {variable}\")\n",
    "sns.histplot(data = df, x = f\"{variable}\", kde=True, ax = ax[0])\n",
    "\n",
    "ax[1].set_title(f\"Boxplot de {variable}\")\n",
    "sns.boxplot(data = df, x = f\"{variable}\", ax=ax[1])"
   ],
   "metadata": {
    "collapsed": false,
    "pycharm": {
     "name": "#%%\n",
     "is_executing": true
    }
   }
  },
  {
   "cell_type": "code",
   "execution_count": null,
   "outputs": [],
   "source": [
    "df.marca_del_auto.unique()"
   ],
   "metadata": {
    "collapsed": false,
    "pycharm": {
     "name": "#%%\n",
     "is_executing": true
    }
   }
  },
  {
   "cell_type": "markdown",
   "source": [
    "## A) Chequee cada una de estas hipótesis con gráficos y Análisis de las distribuciones de las variables. (32pts)"
   ],
   "metadata": {
    "collapsed": false
   }
  },
  {
   "cell_type": "markdown",
   "source": [],
   "metadata": {
    "collapsed": false,
    "pycharm": {
     "name": "#%% md\n"
    }
   }
  },
  {
   "cell_type": "code",
   "execution_count": 3,
   "outputs": [
    {
     "data": {
      "text/plain": "ford      1017\nhonda     1014\ntoyota     969\nName: marca_del_auto, dtype: int64"
     },
     "execution_count": 3,
     "metadata": {},
     "output_type": "execute_result"
    }
   ],
   "source": [
    "df.marca_del_auto.value_counts()"
   ],
   "metadata": {
    "collapsed": false,
    "pycharm": {
     "name": "#%%\n"
    }
   }
  },
  {
   "cell_type": "markdown",
   "source": [
    "Falso. Los Toyota no fueron los más reparados."
   ],
   "metadata": {
    "collapsed": false,
    "pycharm": {
     "name": "#%% md\n"
    }
   }
  },
  {
   "cell_type": "markdown",
   "source": [
    "2. \"El Tuerca\" tallerista antiguo, sostiene que los autos nuevos tiene muchas \"mañas\" y por lo tanto tardan muchisimo en repararse. -crea la variable \"edad_del_auto\" para verificar esta hipótesis. Tené en cuenta el año en que estas haciendo el examen.(4pts/32pts)"
   ],
   "metadata": {
    "collapsed": false,
    "pycharm": {
     "name": "#%% md\n"
    }
   }
  },
  {
   "cell_type": "code",
   "execution_count": 7,
   "outputs": [],
   "source": [
    "df['edad_del_auto'] = 2022 - df['fecha_de_elaboracion_del_auto']"
   ],
   "metadata": {
    "collapsed": false,
    "pycharm": {
     "name": "#%%\n"
    }
   }
  },
  {
   "cell_type": "code",
   "execution_count": 8,
   "outputs": [
    {
     "data": {
      "text/plain": "   tiempo_de_reparacion tipo_de_motor marca_del_auto  \\\n0                2406.0      gasolina         toyota   \n1                2776.5     electrico          honda   \n2                1122.0        diesel          honda   \n3                 639.0      gasolina          honda   \n4                1494.0     electrico          honda   \n\n   cantidad_de_ruedas_a_reemplazar signo_del_auto  cantidad_de_kilometros  \\\n0                                4         Piscis                   81760   \n1                                3          Virgo                   91959   \n2                                3        Acuario                   82800   \n3                                4          Virgo                   19724   \n4                                1        Acuario                   36123   \n\n   fecha_de_elaboracion_del_auto  edad_del_auto  \n0                         2002.0           20.0  \n1                         1989.0           33.0  \n2                         1998.0           24.0  \n3                         2013.0            9.0  \n4                         2006.0           16.0  ",
      "text/html": "<div>\n<style scoped>\n    .dataframe tbody tr th:only-of-type {\n        vertical-align: middle;\n    }\n\n    .dataframe tbody tr th {\n        vertical-align: top;\n    }\n\n    .dataframe thead th {\n        text-align: right;\n    }\n</style>\n<table border=\"1\" class=\"dataframe\">\n  <thead>\n    <tr style=\"text-align: right;\">\n      <th></th>\n      <th>tiempo_de_reparacion</th>\n      <th>tipo_de_motor</th>\n      <th>marca_del_auto</th>\n      <th>cantidad_de_ruedas_a_reemplazar</th>\n      <th>signo_del_auto</th>\n      <th>cantidad_de_kilometros</th>\n      <th>fecha_de_elaboracion_del_auto</th>\n      <th>edad_del_auto</th>\n    </tr>\n  </thead>\n  <tbody>\n    <tr>\n      <th>0</th>\n      <td>2406.0</td>\n      <td>gasolina</td>\n      <td>toyota</td>\n      <td>4</td>\n      <td>Piscis</td>\n      <td>81760</td>\n      <td>2002.0</td>\n      <td>20.0</td>\n    </tr>\n    <tr>\n      <th>1</th>\n      <td>2776.5</td>\n      <td>electrico</td>\n      <td>honda</td>\n      <td>3</td>\n      <td>Virgo</td>\n      <td>91959</td>\n      <td>1989.0</td>\n      <td>33.0</td>\n    </tr>\n    <tr>\n      <th>2</th>\n      <td>1122.0</td>\n      <td>diesel</td>\n      <td>honda</td>\n      <td>3</td>\n      <td>Acuario</td>\n      <td>82800</td>\n      <td>1998.0</td>\n      <td>24.0</td>\n    </tr>\n    <tr>\n      <th>3</th>\n      <td>639.0</td>\n      <td>gasolina</td>\n      <td>honda</td>\n      <td>4</td>\n      <td>Virgo</td>\n      <td>19724</td>\n      <td>2013.0</td>\n      <td>9.0</td>\n    </tr>\n    <tr>\n      <th>4</th>\n      <td>1494.0</td>\n      <td>electrico</td>\n      <td>honda</td>\n      <td>1</td>\n      <td>Acuario</td>\n      <td>36123</td>\n      <td>2006.0</td>\n      <td>16.0</td>\n    </tr>\n  </tbody>\n</table>\n</div>"
     },
     "execution_count": 8,
     "metadata": {},
     "output_type": "execute_result"
    }
   ],
   "source": [
    "df.head()"
   ],
   "metadata": {
    "collapsed": false,
    "pycharm": {
     "name": "#%%\n"
    }
   }
  },
  {
   "cell_type": "markdown",
   "source": [
    "3. \"Pistón\", sostiene que depende del signo del zoodíaco, los autos de \"sagitario\", dice, son más divertidos, extrovertidos, tienen buena fortuna y son fáciles conversadores, por lo tanto tardan menos en repararse.(4pts/32pts)"
   ],
   "metadata": {
    "collapsed": false,
    "pycharm": {
     "name": "#%% md\n"
    }
   }
  },
  {
   "cell_type": "markdown",
   "source": [
    "4. \"El Oso\", fanático de Elon Musk, sostiene que los autos eléctricos son los más eficientes y por lo tanto tardan menos en repararse.(4pts/32pts)"
   ],
   "metadata": {
    "collapsed": false,
    "pycharm": {
     "name": "#%% md\n"
    }
   }
  },
  {
   "cell_type": "markdown",
   "source": [
    "5. \"Bujía\", sostiene que los autos diesel son los más eficientes y por lo tanto tardan menos en repararse.(4pts/32pts)"
   ],
   "metadata": {
    "collapsed": false,
    "pycharm": {
     "name": "#%% md\n"
    }
   }
  },
  {
   "cell_type": "code",
   "execution_count": null,
   "outputs": [],
   "source": [],
   "metadata": {
    "collapsed": false,
    "pycharm": {
     "name": "#%%\n"
    }
   }
  }
 ],
 "metadata": {
  "kernelspec": {
   "display_name": "Python 3",
   "language": "python",
   "name": "python3"
  },
  "language_info": {
   "codemirror_mode": {
    "name": "ipython",
    "version": 2
   },
   "file_extension": ".py",
   "mimetype": "text/x-python",
   "name": "python",
   "nbconvert_exporter": "python",
   "pygments_lexer": "ipython2",
   "version": "2.7.6"
  }
 },
 "nbformat": 4,
 "nbformat_minor": 0
}